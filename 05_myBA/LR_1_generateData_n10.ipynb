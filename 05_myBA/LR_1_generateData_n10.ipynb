{
 "cells": [
  {
   "cell_type": "markdown",
   "id": "c9404cff-f20f-4593-9a30-3fa838661bb7",
   "metadata": {
    "tags": []
   },
   "source": [
    "# Config & Imports"
   ]
  },
  {
   "cell_type": "code",
   "execution_count": 1,
   "id": "966ca0b6-3802-4614-8d5f-8585175cab6d",
   "metadata": {},
   "outputs": [],
   "source": [
    "import sklearn.datasets\n",
    "from sklearn.linear_model import LogisticRegression\n",
    "import numpy as np\n",
    "import pandas as pd\n",
    "from pathlib import Path\n",
    "from sklearn.model_selection import train_test_split\n",
    "\n",
    "from joblib import Parallel, delayed\n",
    "\n",
    "import utilities_LR\n",
    "import random\n",
    "\n",
    "import os\n"
   ]
  },
  {
   "cell_type": "code",
   "execution_count": 2,
   "id": "e460feab-9503-40cb-925c-d68e108ea696",
   "metadata": {},
   "outputs": [],
   "source": [
    "config = {\n",
    "    'data': {\n",
    "        'n_datasets': 45_000, # the number of datasets\n",
    "        \n",
    "        'n_samples': 5_000, # the number of samples per dataset\n",
    "        \n",
    "        'n_features': 10, \n",
    "        # The total number of features. \n",
    "        # These comprise n_informative informative features, n_redundant redundant features, n_repeated duplicated features and \n",
    "        # n_features-n_informative-n_redundant-n_repeated useless features drawn at random.\n",
    "        \n",
    "        #'n_informative': random.randint(2, 10),\n",
    "        'n_informative': 'random',\n",
    "        # The number of informative features. Each class is composed of a number of gaussian clusters each located around the vertices \n",
    "        # of a hypercube in a subspace of dimension n_informative. For each cluster, informative features are drawn independently \n",
    "        # from N(0, 1) and then randomly linearly combined within each cluster in order to add covariance. The clusters are then \n",
    "        # placed on the vertices of the hypercube.\n",
    "        ### int or 'random'\n",
    "        \n",
    "        'n_targets': 1,\n",
    "        # The number of targets (or labels) of the classification problem.\n",
    "    \n",
    "        'n_clusters_per_class': 1,\n",
    "        # The number of clusters per class.\n",
    "        \n",
    "        'class_sep': 1.0,\n",
    "        # class_sepfloat, default=1.0\n",
    "        # The factor multiplying the hypercube size. Larger values spread out the clusters/classes and make the classification task \n",
    "        # easier.\n",
    "        \n",
    "        'shuffle': True,\n",
    "        # Shuffle the samples and the features.\n",
    "        \n",
    "        'random_state': 44,\n",
    "        # Determines random number generation for dataset creation. Pass an int for reproducible output across multiple function calls.\n",
    "    },\n",
    "    'computation':{\n",
    "        'n_jobs': 30\n",
    "    }\n",
    "}\n"
   ]
  },
  {
   "cell_type": "markdown",
   "id": "9379e846-dbee-4742-a52d-282ff9f8808a",
   "metadata": {},
   "source": [
    "# Generate Data"
   ]
  },
  {
   "cell_type": "code",
   "execution_count": 3,
   "id": "10f08112-ac35-4d40-9405-822dcaefbd22",
   "metadata": {},
   "outputs": [],
   "source": [
    "# deactivate GPU\n",
    "\n",
    "os.environ['TF_CPP_MIN_LOG_LEVEL'] = '2'\n",
    "\n",
    "os.environ['CUDA_DEVICE_ORDER']='PCI_BUS_ID'\n",
    "os.environ['CUDA_VISIBLE_DEVICES'] = '' \n",
    "os.environ['TF_FORCE_GPU_ALLOW_GROWTH'] = ''\n",
    "\n",
    "os.environ['XLA_FLAGS'] = ''#-10.1' #--xla_gpu_cuda_data_dir=/usr/local/cuda, \n",
    "os.environ['TF_XLA_FLAGS'] = ''#'--tf_xla_auto_jit=2' #, --tf_xla_enable_xla_devices"
   ]
  },
  {
   "cell_type": "code",
   "execution_count": 4,
   "id": "5aa8b2b6-d11f-407a-b860-b97c4cdc4171",
   "metadata": {},
   "outputs": [],
   "source": [
    "X_datasets_list = np.zeros([config['data']['n_datasets'], config['data']['n_samples'], config['data']['n_features']])\n",
    "X_datasets_list_eval = np.zeros([config['data']['n_datasets'], config['data']['n_samples'], config['data']['n_features']])\n",
    "\n",
    "if  config['data']['n_targets'] < 2:\n",
    "    y_datasets_list = np.zeros([config['data']['n_datasets'], config['data']['n_samples'], ])\n",
    "else:\n",
    "    y_datasets_list = np.zeros([config['data']['n_datasets'], config['data']['n_samples'], config['data']['n_targets']])"
   ]
  },
  {
   "cell_type": "code",
   "execution_count": 5,
   "id": "89cf1b4e-7b1b-4153-bc22-baf5de781475",
   "metadata": {},
   "outputs": [],
   "source": [
    "def create_data(i):\n",
    "    n_features = config['data']['n_features']\n",
    "    if config['data']['n_informative'] == 'random':\n",
    "        n_informative = random.randint(n_features - 5, n_features)\n",
    "        n_redundant = random.randint(0, n_features-n_informative)\n",
    "        n_repeated = n_features - n_informative - n_redundant\n",
    "    else:\n",
    "        n_informative = config['data']['n_informative']\n",
    "        n_redundant = config['data']['n_features']-config['data']['n_informative']\n",
    "        n_repeated = 0\n",
    "    X, y =  sklearn.datasets.make_classification(n_samples=config['data']['n_samples'],\n",
    "                                                                                         n_features=n_features,\n",
    "                                                                                         n_informative=n_informative,\n",
    "                                                                                         n_redundant=n_redundant,\n",
    "                                                                                         n_repeated=n_repeated,\n",
    "                                                                                         n_classes=config['data']['n_targets']+1, \n",
    "                                                                                         n_clusters_per_class=config['data']['n_clusters_per_class'],\n",
    "                                                                                         weights=None,\n",
    "                                                                                         flip_y=0, # noise is set in 2a\n",
    "                                                                                         class_sep=config['data']['class_sep'],\n",
    "                                                                                         shuffle=config['data']['shuffle'],\n",
    "                                                                                         random_state=config['data']['random_state']+i\n",
    "                                                )\n",
    "    return X, y"
   ]
  },
  {
   "cell_type": "code",
   "execution_count": 6,
   "id": "019a8334-0fe4-4a96-a8ce-0d30d90c3206",
   "metadata": {
    "tags": []
   },
   "outputs": [
    {
     "name": "stderr",
     "output_type": "stream",
     "text": [
      "[Parallel(n_jobs=30)]: Using backend LokyBackend with 30 concurrent workers.\n",
      "[Parallel(n_jobs=30)]: Done  68 tasks      | elapsed:   16.2s\n",
      "[Parallel(n_jobs=30)]: Done 228 tasks      | elapsed:   18.1s\n",
      "[Parallel(n_jobs=30)]: Done 452 tasks      | elapsed:   19.7s\n",
      "[Parallel(n_jobs=30)]: Done 740 tasks      | elapsed:   22.3s\n",
      "[Parallel(n_jobs=30)]: Done 1092 tasks      | elapsed:   26.0s\n",
      "[Parallel(n_jobs=30)]: Done 1508 tasks      | elapsed:   30.3s\n",
      "[Parallel(n_jobs=30)]: Done 1988 tasks      | elapsed:   34.0s\n",
      "[Parallel(n_jobs=30)]: Done 2532 tasks      | elapsed:   39.2s\n",
      "[Parallel(n_jobs=30)]: Done 3140 tasks      | elapsed:   45.8s\n",
      "[Parallel(n_jobs=30)]: Done 3812 tasks      | elapsed:   52.5s\n",
      "[Parallel(n_jobs=30)]: Done 4548 tasks      | elapsed:   58.4s\n",
      "[Parallel(n_jobs=30)]: Done 5348 tasks      | elapsed:  1.1min\n",
      "[Parallel(n_jobs=30)]: Done 6212 tasks      | elapsed:  1.2min\n",
      "[Parallel(n_jobs=30)]: Done 7140 tasks      | elapsed:  1.3min\n",
      "[Parallel(n_jobs=30)]: Done 8132 tasks      | elapsed:  1.5min\n",
      "[Parallel(n_jobs=30)]: Done 9188 tasks      | elapsed:  1.7min\n",
      "[Parallel(n_jobs=30)]: Done 10308 tasks      | elapsed:  1.9min\n",
      "[Parallel(n_jobs=30)]: Done 11492 tasks      | elapsed:  2.0min\n",
      "[Parallel(n_jobs=30)]: Done 12740 tasks      | elapsed:  2.2min\n",
      "[Parallel(n_jobs=30)]: Done 20886 tasks      | elapsed:  2.4min\n",
      "[Parallel(n_jobs=30)]: Done 31894 tasks      | elapsed:  2.6min\n",
      "[Parallel(n_jobs=30)]: Done 43414 tasks      | elapsed:  2.8min\n",
      "[Parallel(n_jobs=30)]: Done 45000 out of 45000 | elapsed:  2.8min finished\n"
     ]
    }
   ],
   "source": [
    "parallel = Parallel(n_jobs=config['computation']['n_jobs'], verbose=3, backend='loky') #loky\n",
    "\n",
    "\n",
    "results= parallel(delayed(create_data)(i) for i in range(config['data']['n_datasets']))\n",
    "                                  \n",
    "del parallel"
   ]
  },
  {
   "cell_type": "code",
   "execution_count": 7,
   "id": "7dac45e4-0eb5-4872-98a3-0ee19636415a",
   "metadata": {},
   "outputs": [],
   "source": [
    "for i in range(config['data']['n_datasets']):\n",
    "    X_datasets_list[i] = results[i][0]\n",
    "    y_datasets_list[i] = results[i][1]"
   ]
  },
  {
   "cell_type": "markdown",
   "id": "42892918-b2e1-47b0-96b1-20fcf3ed3a81",
   "metadata": {
    "tags": []
   },
   "source": [
    "# Save Data"
   ]
  },
  {
   "cell_type": "code",
   "execution_count": 8,
   "id": "1feceb8c-29e4-4674-9cef-9d7bc59614ca",
   "metadata": {},
   "outputs": [],
   "source": [
    "directory = utilities_LR.data_path_LR(config)\n",
    "\n",
    "Path(directory).mkdir(parents=True, exist_ok=True)\n",
    "\n",
    "with open(directory + '/X.npy', \"wb\") as f:\n",
    "    np.save(f, X_datasets_list)\n",
    "with open(directory + '/y.npy', \"wb\") as f:\n",
    "    np.save(f, y_datasets_list)"
   ]
  }
 ],
 "metadata": {
  "kernelspec": {
   "display_name": "Python myBA",
   "language": "python",
   "name": "myba"
  },
  "language_info": {
   "codemirror_mode": {
    "name": "ipython",
    "version": 3
   },
   "file_extension": ".py",
   "mimetype": "text/x-python",
   "name": "python",
   "nbconvert_exporter": "python",
   "pygments_lexer": "ipython3",
   "version": "3.9.12"
  }
 },
 "nbformat": 4,
 "nbformat_minor": 5
}
