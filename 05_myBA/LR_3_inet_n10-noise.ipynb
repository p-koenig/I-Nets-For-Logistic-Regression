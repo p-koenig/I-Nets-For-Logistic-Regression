{
 "cells": [
  {
   "cell_type": "markdown",
   "id": "7cd1549c-3ec6-40dd-a7cf-69cd5beeca85",
   "metadata": {},
   "source": [
    "# Config & Imports"
   ]
  },
  {
   "cell_type": "code",
   "execution_count": 1,
   "id": "24522e9e-6237-4c8e-b502-e555da2fef9c",
   "metadata": {},
   "outputs": [],
   "source": [
    "import numpy as np\n",
    "from pathlib import Path\n",
    "from sklearn.model_selection import train_test_split\n",
    "\n",
    "import os\n",
    "import tensorflow as tf\n",
    "from tensorflow import keras\n",
    "import keras.layers\n",
    "from keras.models import Sequential\n",
    "from keras.layers import Dense\n",
    "from keras.layers import BatchNormalization\n",
    "from keras.layers import LeakyReLU\n",
    "from keras.layers import ReLU\n",
    "from keras.callbacks import EarlyStopping\n",
    "\n",
    "from keras.regularizers import L1L2\n",
    "from keras.regularizers import L2\n",
    "\n",
    "import utilities_LR\n",
    "\n",
    "from tensorflow.python.ops.numpy_ops import np_config\n",
    "np_config.enable_numpy_behavior()\n",
    "\n",
    "import sys"
   ]
  },
  {
   "cell_type": "code",
   "execution_count": 2,
   "id": "13f8e753-3ed4-47c2-a508-794c5ccff2ce",
   "metadata": {
    "tags": []
   },
   "outputs": [],
   "source": [
    "config = {\n",
    "    'data': {\n",
    "        'n_datasets': 45_000, # the number of datasets\n",
    "        \n",
    "        'n_samples': 5_000, # the number of samples per dataset\n",
    "        \n",
    "        'n_features': 10, \n",
    "        # The total number of features. \n",
    "        # These comprise n_informative informative features, n_redundant redundant features, n_repeated duplicated features and \n",
    "        # n_features-n_informative-n_redundant-n_repeated useless features drawn at random.\n",
    "        \n",
    "        #'n_informative': random.randint(2, 10),\n",
    "        'n_informative': 'random',\n",
    "        # The number of informative features. Each class is composed of a number of gaussian clusters each located around the vertices \n",
    "        # of a hypercube in a subspace of dimension n_informative. For each cluster, informative features are drawn independently \n",
    "        # from N(0, 1) and then randomly linearly combined within each cluster in order to add covariance. The clusters are then \n",
    "        # placed on the vertices of the hypercube.\n",
    "        ### int or 'random'\n",
    "        \n",
    "        'n_targets': 1,\n",
    "        # The number of targets (or labels) of the classification problem.\n",
    "    \n",
    "        'n_clusters_per_class': 1,\n",
    "        # The number of clusters per class.\n",
    "        \n",
    "        'class_sep': 1.0,\n",
    "        # class_sepfloat, default=1.0\n",
    "        # The factor multiplying the hypercube size. Larger values spread out the clusters/classes and make the classification task \n",
    "        # easier.\n",
    "        \n",
    "        'shuffle': True,\n",
    "        # Shuffle the samples and the features.\n",
    "        \n",
    "        'random_state': 44,\n",
    "        # Determines random number generation for dataset creation. Pass an int for reproducible output across multiple function calls.\n",
    "    },\n",
    "    'lambda': {\n",
    "        'data_prep': {\n",
    "            'train_test_val_split': { # refer to sklearn doc\n",
    "                'test_size': 0.1,\n",
    "                'val_size': 0.15,\n",
    "                'random_state': None,\n",
    "                'shuffle': False, # should be always false\n",
    "                'stratify': None\n",
    "            }\n",
    "        },\n",
    "        'model_compile': {\n",
    "            'optimizer_lambda': 'adam',\n",
    "            'loss': 'mae',# keras.losses.BinaryCrossentropy(from_logits=False), #tf.keras.losses.get(config['lambda_net']['loss_lambda']), # 'mae'\n",
    "            'metrics': ['mae', keras.losses.BinaryCrossentropy(from_logits=False)]\n",
    "        },\n",
    "        'model_fit': { # refer to keras API\n",
    "            'batch_size': 64,\n",
    "            'epochs': 500,\n",
    "            'verbose': 0,\n",
    "            'callbacks': None,\n",
    "            'shuffle': True, # usually true\n",
    "            'class_weight': None,\n",
    "            'sample_weight': None,\n",
    "            'initial_epoch': 0,\n",
    "            'steps_per_epoch': None,\n",
    "            'validation_steps': None,\n",
    "            'validation_batch_size': None,\n",
    "            'validation_freq': 1\n",
    "        }\n",
    "    },\n",
    "    'inets': {\n",
    "        'data_prep': {\n",
    "            'train_test_val_split': { # refer to sklearn doc\n",
    "                'test_size': 0.1,\n",
    "                'val_size': 0.15,\n",
    "                'random_state': None,\n",
    "                'shuffle': False,\n",
    "                'stratify': None\n",
    "            },\n",
    "            'train_noise': 0.1 # y_flip fraction on Y_train pred data from lambda net\n",
    "        },\n",
    "        'model_compile': {\n",
    "            \n",
    "        },\n",
    "        'model_fit': { # refer to keras API\n",
    "            'batch_size': 256,\n",
    "            'epochs': 1000,\n",
    "            'verbose': 'auto',\n",
    "            'callbacks': None,\n",
    "            'shuffle': True,\n",
    "            'class_weight': None,\n",
    "            'sample_weight': None,\n",
    "            'initial_epoch': 0,\n",
    "            'steps_per_epoch': None,\n",
    "            'validation_steps': None,\n",
    "            'validation_batch_size': None,\n",
    "            'validation_freq': 1\n",
    "        }\n",
    "    },\n",
    "    'computation':{\n",
    "        'n_jobs': 130,\n",
    "        'use_gpu': False,\n",
    "        'gpu_numbers': '4',\n",
    "        'RANDOM_SEED': 1,   \n",
    "    }\n",
    "}"
   ]
  },
  {
   "cell_type": "code",
   "execution_count": 3,
   "id": "c85fab86-b65d-445f-a4ff-9ce3f11d1bd3",
   "metadata": {},
   "outputs": [],
   "source": [
    "os.environ['CUDA_DEVICE_ORDER']='PCI_BUS_ID'"
   ]
  },
  {
   "cell_type": "code",
   "execution_count": 4,
   "id": "b44bbe3e-16e1-45f1-92cf-88dbd8a87318",
   "metadata": {},
   "outputs": [],
   "source": [
    "os.environ['TF_CPP_MIN_LOG_LEVEL'] = '2'\n",
    "\n",
    "os.environ['CUDA_VISIBLE_DEVICES'] = config['computation']['gpu_numbers'] if config['computation']['use_gpu'] else ''\n",
    "os.environ['TF_FORCE_GPU_ALLOW_GROWTH'] = 'true' if config['computation']['use_gpu'] else ''\n",
    "\n",
    "os.environ['XLA_FLAGS'] = '--xla_gpu_cuda_data_dir=/usr/local/cuda-11.4' if config['computation']['use_gpu'] else ''#-10.1' #--xla_gpu_cuda_data_dir=/usr/local/cuda, \n",
    "os.environ['TF_XLA_FLAGS'] = '--tf_xla_auto_jit=2 ,--tf_xla_enable_xla_devices' if config['computation']['use_gpu'] else ''#'--tf_xla_auto_jit=2' #, --tf_xla_enable_xla_devices"
   ]
  },
  {
   "cell_type": "code",
   "execution_count": 5,
   "id": "17ca8427-e1ef-419f-a901-2f010ffea5d5",
   "metadata": {},
   "outputs": [
    {
     "name": "stdout",
     "output_type": "stream",
     "text": [
      "Num GPUs Available:  0\n",
      "Num XLA-GPUs Available:  0\n"
     ]
    },
    {
     "name": "stderr",
     "output_type": "stream",
     "text": [
      "2022-07-11 19:58:39.890532: E tensorflow/stream_executor/cuda/cuda_driver.cc:271] failed call to cuInit: CUDA_ERROR_NO_DEVICE: no CUDA-capable device is detected\n"
     ]
    }
   ],
   "source": [
    "print(\"Num GPUs Available: \", len(tf.config.experimental.list_physical_devices('GPU')))\n",
    "print(\"Num XLA-GPUs Available: \", len(tf.config.experimental.list_physical_devices('XLA_GPU')))"
   ]
  },
  {
   "cell_type": "markdown",
   "id": "298d80c2-ba75-403e-a3d1-6611a228d86f",
   "metadata": {},
   "source": [
    "# Functions"
   ]
  },
  {
   "cell_type": "code",
   "execution_count": 6,
   "id": "21aa2853-27a3-40e7-94ee-7458467f7adc",
   "metadata": {
    "tags": []
   },
   "outputs": [],
   "source": [
    "def load_lambda():\n",
    "    directory = utilities_LR.lambda_path_LR(config)\n",
    "    \n",
    "    return np.load(directory + '/lambda_weights_list.npy', allow_pickle=True)"
   ]
  },
  {
   "cell_type": "code",
   "execution_count": 7,
   "id": "e51ec205-d98c-40dc-9f79-0cfb6a5b5930",
   "metadata": {},
   "outputs": [],
   "source": [
    "def get_X_data():\n",
    "    directory = utilities_LR.data_path_LR(config)\n",
    "    return np.load(directory + '/X.npy', allow_pickle=True)"
   ]
  },
  {
   "cell_type": "code",
   "execution_count": 8,
   "id": "b05333f3-925a-4849-93f8-ab79d01ffc60",
   "metadata": {},
   "outputs": [],
   "source": [
    "def get_y_pred_data():\n",
    "    directory = utilities_LR.lambda_path_LR(config)\n",
    "    \n",
    "    return np.load(directory + '/lambda_preds_list.npy', allow_pickle=True)\n",
    "    #return np.load(directory + '/lambda_preds_list_with0.2_noise.npy', allow_pickle=True)"
   ]
  },
  {
   "cell_type": "markdown",
   "id": "4974df36-5052-4bbc-a191-4aadc84d02c1",
   "metadata": {},
   "source": [
    "# Model Training"
   ]
  },
  {
   "cell_type": "code",
   "execution_count": 9,
   "id": "d47754df-11d9-4365-ba85-5d5ceb10bd8b",
   "metadata": {},
   "outputs": [],
   "source": [
    "lambda_nets = load_lambda()"
   ]
  },
  {
   "cell_type": "code",
   "execution_count": 10,
   "id": "b32794f7-c1f7-4523-b282-8d06e49cd305",
   "metadata": {},
   "outputs": [],
   "source": [
    "y_predictions = get_y_pred_data()"
   ]
  },
  {
   "cell_type": "code",
   "execution_count": 11,
   "id": "f4d3f8f5-20e5-4c61-ac1f-623c204c2d6f",
   "metadata": {},
   "outputs": [],
   "source": [
    "valid_feature_data = get_X_data()"
   ]
  },
  {
   "cell_type": "code",
   "execution_count": 12,
   "id": "7d732f76-645d-42c0-88ce-fbb5899a1be3",
   "metadata": {},
   "outputs": [],
   "source": [
    "y_predictions = y_predictions.round()"
   ]
  },
  {
   "cell_type": "code",
   "execution_count": 13,
   "id": "2f1fc041-6629-4e1e-befc-dec63874e8c1",
   "metadata": {},
   "outputs": [],
   "source": [
    "indexcol = np.array([np.arange(config['data']['n_datasets'], dtype=int)], ndmin=2).reshape(config['data']['n_datasets'], 1)\n",
    "y_predictions = np.concatenate([indexcol, y_predictions], axis=1)"
   ]
  },
  {
   "cell_type": "code",
   "execution_count": 14,
   "id": "79d73cd0-1e77-4989-be4d-d8d512d8f408",
   "metadata": {},
   "outputs": [],
   "source": [
    "import pandas as pd"
   ]
  },
  {
   "cell_type": "code",
   "execution_count": 15,
   "id": "2f471260-9764-44bd-b35e-45fd67a0d830",
   "metadata": {},
   "outputs": [
    {
     "data": {
      "text/plain": [
       "array([[ 1.3550539e+00,  1.2586989e+00,  1.2124062e+00, ...,\n",
       "        -4.2458245e-01,  4.9477452e-01,  2.0274468e-02],\n",
       "       [ 1.1479834e+00,  9.6538615e-01,  1.2207832e+00, ...,\n",
       "         4.2061946e-01,  3.3673701e-01,  3.1846145e-04],\n",
       "       [ 1.3644235e+00,  1.7095858e+00,  1.0799276e+00, ...,\n",
       "        -2.9329687e-01, -3.2810420e-01,  8.7037854e-02],\n",
       "       ...,\n",
       "       [ 1.3203987e+00,  1.3999584e+00,  1.4361682e+00, ...,\n",
       "         4.1442773e-01,  7.5010920e-01,  1.5540089e-01],\n",
       "       [ 1.1476049e+00,  1.9412074e+00,  1.2327747e+00, ...,\n",
       "        -5.0742167e-01,  5.8738905e-01,  9.2185505e-02],\n",
       "       [ 1.3177347e+00,  1.1020919e+00,  1.3079326e+00, ...,\n",
       "        -4.3530583e-01, -7.9997015e-01,  8.3676837e-02]], dtype=float32)"
      ]
     },
     "execution_count": 15,
     "metadata": {},
     "output_type": "execute_result"
    }
   ],
   "source": [
    "lambda_nets"
   ]
  },
  {
   "cell_type": "code",
   "execution_count": 16,
   "id": "02a87a08-8177-4e86-8673-9858f9509881",
   "metadata": {},
   "outputs": [
    {
     "data": {
      "text/plain": [
       "(45000, 641)"
      ]
     },
     "execution_count": 16,
     "metadata": {},
     "output_type": "execute_result"
    }
   ],
   "source": [
    "lambda_nets.shape"
   ]
  },
  {
   "cell_type": "code",
   "execution_count": 17,
   "id": "58209e39-b22f-4166-81f9-587f401e7a0a",
   "metadata": {},
   "outputs": [
    {
     "data": {
      "text/plain": [
       "(45000, 5001)"
      ]
     },
     "execution_count": 17,
     "metadata": {},
     "output_type": "execute_result"
    }
   ],
   "source": [
    "y_predictions.shape"
   ]
  },
  {
   "cell_type": "code",
   "execution_count": 18,
   "id": "8bbc7589-810a-4720-8b55-6caedabe8ce6",
   "metadata": {},
   "outputs": [],
   "source": [
    "valid_feature_data = tf.convert_to_tensor(valid_feature_data, dtype=tf.float32)"
   ]
  },
  {
   "cell_type": "markdown",
   "id": "42f63019-5b93-4df8-bb78-1ebbc45b732e",
   "metadata": {
    "tags": []
   },
   "source": [
    "# Custom Loss"
   ]
  },
  {
   "cell_type": "code",
   "execution_count": 19,
   "id": "7dfd3e8f-d8a9-482f-8b92-ffc45400b3c0",
   "metadata": {},
   "outputs": [],
   "source": [
    "@tf.function\n",
    "def custom_loss(y_predictions_index, y_coef_pred):\n",
    "    \n",
    "    index = y_predictions_index[:, 0]\n",
    "    y_true = y_predictions_index[:, 1:]\n",
    "    \n",
    "    # ADD NOISE TO TRAINING DATA\n",
    "    noise = tf.cast(config['inets']['data_prep']['train_noise'], tf.float32)\n",
    "    noise_logits = tf.tile([[1-noise, noise]], [tf.shape(y_true)[0], tf.constant(1)])\n",
    "    noise_flip = tf.random.categorical(tf.math.log(noise_logits), y_true.shape[1])\n",
    "    y_true = y_true*(1-noise_flip) + (1-y_true)*noise_flip   \n",
    "    \n",
    "    index = tf.cast(index, tf.int32)\n",
    "    \n",
    "    X_feature_data_samples = tf.gather(valid_feature_data, index)\n",
    "    \n",
    "    y_pred = tf.transpose(tf.math.add(tf.transpose(tf.linalg.matvec(X_feature_data_samples, y_coef_pred[:, 1:])), y_coef_pred[:, 0]))\n",
    "\n",
    "    metric = tf.keras.losses.BinaryCrossentropy(\n",
    "                                from_logits=True,\n",
    "                                label_smoothing=0.0,\n",
    "                                axis=-1,\n",
    "                                reduction='auto',\n",
    "                                name='binary_crossentropy')\n",
    "    loss = metric(y_true, y_pred)\n",
    "    return loss"
   ]
  },
  {
   "cell_type": "code",
   "execution_count": null,
   "id": "beef7092-23dd-4531-86ed-2b53487032fc",
   "metadata": {
    "tags": []
   },
   "outputs": [
    {
     "name": "stdout",
     "output_type": "stream",
     "text": [
      "Model: \"sequential\"\n",
      "_________________________________________________________________\n",
      " Layer (type)                Output Shape              Param #   \n",
      "=================================================================\n",
      " dense (Dense)               (40500, 2048)             1314816   \n",
      "                                                                 \n",
      " dropout (Dropout)           (40500, 2048)             0         \n",
      "                                                                 \n",
      " dense_1 (Dense)             (40500, 1024)             2098176   \n",
      "                                                                 \n",
      " dropout_1 (Dropout)         (40500, 1024)             0         \n",
      "                                                                 \n",
      " dense_2 (Dense)             (40500, 512)              524800    \n",
      "                                                                 \n",
      " dropout_2 (Dropout)         (40500, 512)              0         \n",
      "                                                                 \n",
      " dense_3 (Dense)             (40500, 11)               5643      \n",
      "                                                                 \n",
      "=================================================================\n",
      "Total params: 3,943,435\n",
      "Trainable params: 3,943,435\n",
      "Non-trainable params: 0\n",
      "_________________________________________________________________\n",
      "Epoch 1/1000\n",
      "135/135 [==============================] - 6s 42ms/step - loss: 0.8193 - val_loss: 0.7037\n",
      "Epoch 2/1000\n",
      "113/135 [========================>.....] - ETA: 0s - loss: 0.7400"
     ]
    }
   ],
   "source": [
    "# Data Prep\n",
    "\n",
    "early_stopping = EarlyStopping(monitor='val_loss',\n",
    "                                min_delta=0.001,\n",
    "                                patience=45,\n",
    "                                verbose=0,\n",
    "                                mode='auto',\n",
    "                                baseline=None,\n",
    "                                restore_best_weights=True)\n",
    "\n",
    "\n",
    "#reduce_lr = tf.keras.callbacks.ReduceLROnPlateau(monitor='val_loss', factor=0.1,\n",
    "#                              patience=5, min_lr=0.0001)\n",
    "#\n",
    "\n",
    "#X_train, X_test, X_val, y_train, y_test, y_val = train_test_val_split(X,\n",
    "#                                                                      y)\n",
    "\n",
    "X_train, X_test, y_train, y_test = train_test_split(lambda_nets, \n",
    "                                                    y_predictions, \n",
    "                                                    test_size=config['inets']['data_prep']['train_test_val_split']['test_size'], \n",
    "                                                    random_state=config['inets']['data_prep']['train_test_val_split']['random_state'], \n",
    "                                                    shuffle=config['inets']['data_prep']['train_test_val_split']['shuffle'], \n",
    "                                                    stratify=config['inets']['data_prep']['train_test_val_split']['stratify'])\n",
    "\n",
    "\n",
    "\n",
    "\n",
    "# Model Def\n",
    "model = Sequential()\n",
    "#model.add(BatchNormalization())\n",
    "#regval = 0.0001\n",
    "#model.add(Dense(2056, activation='swish', kernel_regularizer=L2(regval), bias_regularizer= L2(regval), input_dim=X_train.shape[1]))\n",
    "##model.add(keras.layers.Dropout(0.1))\n",
    "#model.add(Dense(1028, activation='swish', kernel_regularizer=L2(regval), bias_regularizer= L2(regval)))\n",
    "##model.add(keras.layers.Dropout(0.2))\n",
    "#model.add(Dense(1028, activation='swish', kernel_regularizer=L2(regval), bias_regularizer= L2(regval)))\n",
    "##model.add(keras.layers.Dropout(0.2))\n",
    "#model.add(Dense(1028, activation='swish', kernel_regularizer=L2(regval), bias_regularizer=  L2(regval)))\n",
    "##model.add(keras.layers.Dropout(0.1))\n",
    "\n",
    "#model.add(Dense(10000, activation='ELU', input_dim=X_train.shape[1]))\n",
    "##model.add(keras.layers.Dropout(0.3))\n",
    "##model.add(Dense(4112, activation='relu'))\n",
    "#model.add(Dense(10000, activation='ELU'))\n",
    "#model.add(Dense(10000, activation='ELU'))\n",
    "#model.add(Dense(10000, activation='ELU'))\n",
    "#model.add(Dense(10000, activation='ELU'))\n",
    "#model.add(Dense(10000, activation='ELU'))\n",
    "#model.add(Dense(10000, activation='ELU'))\n",
    "\n",
    "#model.add(Dense(1028, activation='LeakyReLU', kernel_regularizer=L2(regval), bias_regularizer= L2(regval), input_dim=X_train.shape[1]))\n",
    "##model.add(keras.layers.Dropout(0.2))\n",
    "#model.add(Dense(1028, activation='LeakyReLU', kernel_regularizer=L2(regval), bias_regularizer= L2(regval)))\n",
    "##model.add(keras.layers.Dropout(0.2))\n",
    "#model.add(Dense(2000, activation='LeakyReLU', kernel_regularizer=L2(regval), bias_regularizer=  L2(regval), input_dim=X_train.shape[1]))\n",
    "#model.add(keras.layers.Dropout(0.1))\n",
    "\n",
    "\n",
    "#model.add(Dense(4096, activation='swish'))\n",
    "#model.add(Dense(2048, activation='swish', kernel_regularizer=L2(regval), bias_regularizer= L2(regval)))\n",
    "#model.add(Dense(1024, activation='swish', kernel_regularizer=L2(regval), bias_regularizer= L2(regval)))\n",
    "#model.add(Dense(512 , activation='swish', kernel_regularizer=L2(regval), bias_regularizer= L2(regval)))\n",
    "#model.add(Dense(2048, activation='swish'))\n",
    "#model.add(Dense(1024, activation='swish'))\n",
    "#model.add(Dense(512 , activation='swish'))\n",
    "#model.add(BatchNormalization())\n",
    "#model.add(Dense(1024, activation='swish'))\n",
    "#model.add(keras.layers.Dropout(0.5))\n",
    "#model.add(Dense(512 , activation='swish'))\n",
    "#model.add(keras.layers.Dropout(0.5))\n",
    "\n",
    "model.add(Dense(2048, activation='swish'))\n",
    "model.add(keras.layers.Dropout(0.5))\n",
    "\n",
    "model.add(Dense(1024, activation='swish'))\n",
    "model.add(keras.layers.Dropout(0.5))\n",
    "model.add(Dense(512 , activation='swish'))\n",
    "model.add(keras.layers.Dropout(0.5))\n",
    "\n",
    "model.add(Dense(config['data']['n_features'] + 1, activation='linear'))\n",
    "\n",
    "#lr = tf.keras.optimizers.schedules.CosineDecayRestarts(\n",
    "#                                                        0.01,\n",
    "#                                                        10,\n",
    "#                                                        t_mul=2.0,\n",
    "#                                                        m_mul=1.0,\n",
    "#                                                        alpha=0.0,\n",
    "#                                                        name=None\n",
    "#)\n",
    "#\n",
    "#\n",
    "#opt = tf.keras.optimizers.RMSprop(\n",
    "#    #learning_rate=0.001,\n",
    "#    learning_rate=lr,\n",
    "#    rho=0.9,\n",
    "#    momentum=0.0,\n",
    "#    epsilon=1e-07,\n",
    "#    centered=False,\n",
    "#    name=\"RMSprop\",\n",
    "#)\n",
    "\n",
    "opt = tf.keras.optimizers.Adam(\n",
    "    learning_rate=0.001,\n",
    "    beta_1=0.9,\n",
    "    beta_2=0.999, # 0.999\n",
    "    epsilon=1e-08, # 1.0, 0.1, 0.01\n",
    "    amsgrad=False,\n",
    "    name='Adam',)\n",
    "\n",
    "#opt = tf.keras.optimizers.SGD(\n",
    "#    learning_rate=0.1, # 0.001\n",
    "#    momentum=0.0,\n",
    "#    nesterov=False,\n",
    "#    name='SGD'\n",
    "#)\n",
    "\n",
    "model.compile(optimizer=opt, loss=custom_loss, metrics=[])\n",
    "model.build(input_shape=X_train.shape)\n",
    "model.summary()\n",
    "\n",
    "# Model fit\n",
    "history = model.fit(x=X_train,\n",
    "                    y=y_train,\n",
    "                    batch_size=config['inets']['model_fit']['batch_size'],\n",
    "                    epochs=config['inets']['model_fit']['epochs'],\n",
    "                    verbose=config['inets']['model_fit']['verbose'],\n",
    "                    callbacks=[early_stopping],\n",
    "                    validation_split=config['inets']['data_prep']['train_test_val_split']['val_size'],\n",
    "                    shuffle=config['inets']['model_fit']['shuffle'],\n",
    "                    class_weight=config['inets']['model_fit']['class_weight'],\n",
    "                    sample_weight=config['inets']['model_fit']['sample_weight'],\n",
    "                    initial_epoch=config['inets']['model_fit']['initial_epoch'],\n",
    "                    steps_per_epoch=config['inets']['model_fit']['steps_per_epoch'],\n",
    "                    validation_steps=config['inets']['model_fit']['validation_steps'],\n",
    "                    validation_batch_size=config['inets']['model_fit']['validation_batch_size'],\n",
    "                    validation_freq=config['inets']['model_fit']['validation_freq'],\n",
    "                    workers=config['computation']['n_jobs'],\n",
    "                    #use_multiprocessing=True\n",
    "                   )\n",
    "print(history.history['val_loss'])\n"
   ]
  },
  {
   "cell_type": "code",
   "execution_count": null,
   "id": "753420b6-eee9-4d22-88fe-3d651a35c34c",
   "metadata": {},
   "outputs": [],
   "source": [
    "def save_model(model):\n",
    "    path = utilities_LR.inet_path_LR(config)\n",
    "    \n",
    "    Path(path).mkdir(parents=True, exist_ok=True)\n",
    "    model.save(path + '/modelKeras' + '.h5')"
   ]
  },
  {
   "cell_type": "code",
   "execution_count": null,
   "id": "55f1961b-2c3d-4a8d-b9e1-2cace3d8f4aa",
   "metadata": {},
   "outputs": [],
   "source": [
    "save_model(model)"
   ]
  },
  {
   "cell_type": "code",
   "execution_count": null,
   "id": "d0a99f3c-6351-4952-9a65-fbfb44cfb825",
   "metadata": {},
   "outputs": [],
   "source": [
    "def save_testData(X_test, y_test):\n",
    "    path = utilities_LR.inet_path_LR(config)\n",
    "    \n",
    "    Path(path).mkdir(parents=True, exist_ok=True)\n",
    "    np.save(path + '/X_test', X_test)\n",
    "    \n",
    "    np.save(path + '/y_test', y_test)"
   ]
  },
  {
   "cell_type": "code",
   "execution_count": null,
   "id": "a1c8993d-4d1b-4970-ba2d-8b7a818d6070",
   "metadata": {},
   "outputs": [],
   "source": [
    "save_testData(X_test, y_test)"
   ]
  },
  {
   "cell_type": "code",
   "execution_count": null,
   "id": "3095586f-4f7a-4ab3-97d5-7de230e70c41",
   "metadata": {},
   "outputs": [],
   "source": []
  }
 ],
 "metadata": {
  "kernelspec": {
   "display_name": "Python myBA",
   "language": "python",
   "name": "myba"
  },
  "language_info": {
   "codemirror_mode": {
    "name": "ipython",
    "version": 3
   },
   "file_extension": ".py",
   "mimetype": "text/x-python",
   "name": "python",
   "nbconvert_exporter": "python",
   "pygments_lexer": "ipython3",
   "version": "3.9.12"
  }
 },
 "nbformat": 4,
 "nbformat_minor": 5
}
